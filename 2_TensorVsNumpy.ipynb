{
  "nbformat": 4,
  "nbformat_minor": 0,
  "metadata": {
    "colab": {
      "provenance": [],
      "gpuType": "T4",
      "authorship_tag": "ABX9TyMzrSAqq8L04Ya57yNVsPrg",
      "include_colab_link": true
    },
    "kernelspec": {
      "name": "python3",
      "display_name": "Python 3"
    },
    "language_info": {
      "name": "python"
    },
    "accelerator": "GPU"
  },
  "cells": [
    {
      "cell_type": "markdown",
      "metadata": {
        "id": "view-in-github",
        "colab_type": "text"
      },
      "source": [
        "<a href=\"https://colab.research.google.com/github/HirunaD/TensorFlow/blob/main/2_TensorVsNumpy.ipynb\" target=\"_parent\"><img src=\"https://colab.research.google.com/assets/colab-badge.svg\" alt=\"Open In Colab\"/></a>"
      ]
    },
    {
      "cell_type": "markdown",
      "source": [
        "**Without GPU Support**"
      ],
      "metadata": {
        "id": "KDrhTiJcY1NK"
      }
    },
    {
      "cell_type": "code",
      "execution_count": 1,
      "metadata": {
        "id": "Ou84J_icRpwA"
      },
      "outputs": [],
      "source": [
        "import numpy as np\n",
        "import tensorflow as tf"
      ]
    },
    {
      "cell_type": "code",
      "source": [
        "import time"
      ],
      "metadata": {
        "id": "rdM8QFswSKPY"
      },
      "execution_count": 2,
      "outputs": []
    },
    {
      "cell_type": "code",
      "source": [
        "tf.test.gpu_device_name()"
      ],
      "metadata": {
        "colab": {
          "base_uri": "https://localhost:8080/",
          "height": 36
        },
        "id": "ruekfLGHSQ7c",
        "outputId": "c9f4e633-0873-4723-c127-aab6aa8e80db"
      },
      "execution_count": 4,
      "outputs": [
        {
          "output_type": "execute_result",
          "data": {
            "text/plain": [
              "''"
            ],
            "application/vnd.google.colaboratory.intrinsic+json": {
              "type": "string"
            }
          },
          "metadata": {},
          "execution_count": 4
        }
      ]
    },
    {
      "cell_type": "code",
      "source": [
        "shape = 5000"
      ],
      "metadata": {
        "id": "xj-s02rhSZsQ"
      },
      "execution_count": 5,
      "outputs": []
    },
    {
      "cell_type": "code",
      "source": [
        "np_array = np.random.uniform(size=[shape,shape])"
      ],
      "metadata": {
        "id": "YUqPwHkJSwtz"
      },
      "execution_count": 8,
      "outputs": []
    },
    {
      "cell_type": "code",
      "source": [
        "np_array"
      ],
      "metadata": {
        "colab": {
          "base_uri": "https://localhost:8080/"
        },
        "id": "vRIErNkaTBc8",
        "outputId": "51c8d9a3-6037-44b4-e3c3-bc76ae1210aa"
      },
      "execution_count": 9,
      "outputs": [
        {
          "output_type": "execute_result",
          "data": {
            "text/plain": [
              "array([[0.56870713, 0.40207072, 0.51590613, ..., 0.42191746, 0.72701452,\n",
              "        0.47138232],\n",
              "       [0.72166589, 0.28888199, 0.37759369, ..., 0.37583246, 0.79482457,\n",
              "        0.93489675],\n",
              "       [0.72736551, 0.29243285, 0.24826258, ..., 0.90412364, 0.7229219 ,\n",
              "        0.25975177],\n",
              "       ...,\n",
              "       [0.77378104, 0.933435  , 0.68132085, ..., 0.34946524, 0.52950108,\n",
              "        0.17078006],\n",
              "       [0.34250861, 0.86355658, 0.87865366, ..., 0.25305418, 0.76425001,\n",
              "        0.74398105],\n",
              "       [0.90423268, 0.6848617 , 0.91440624, ..., 0.79621545, 0.96689646,\n",
              "        0.95528285]])"
            ]
          },
          "metadata": {},
          "execution_count": 9
        }
      ]
    },
    {
      "cell_type": "code",
      "source": [
        "start = time.time()\n",
        "\n",
        "for i in range(10):\n",
        "  np.matmul(np_array, np_array)\n",
        "\n",
        "end = time.time()\n",
        "\n",
        "time_period = end - start\n",
        "\n",
        "print(f'{time_period} seconds')"
      ],
      "metadata": {
        "colab": {
          "base_uri": "https://localhost:8080/"
        },
        "id": "85kId7KhTEmC",
        "outputId": "44f61245-5ca0-4d22-88f4-12aaa933b623"
      },
      "execution_count": 10,
      "outputs": [
        {
          "output_type": "stream",
          "name": "stdout",
          "text": [
            "87.03366160392761 seconds\n"
          ]
        }
      ]
    },
    {
      "cell_type": "code",
      "source": [
        "tf_array = tf.random.uniform([shape,shape])\n",
        "tf_array"
      ],
      "metadata": {
        "colab": {
          "base_uri": "https://localhost:8080/"
        },
        "id": "cYNwdjyVWDP-",
        "outputId": "dab1a9e1-f472-42e4-b7ce-8a56043063d7"
      },
      "execution_count": 12,
      "outputs": [
        {
          "output_type": "execute_result",
          "data": {
            "text/plain": [
              "<tf.Tensor: shape=(5000, 5000), dtype=float32, numpy=\n",
              "array([[0.83157516, 0.08159602, 0.6825113 , ..., 0.41745508, 0.8743297 ,\n",
              "        0.13771176],\n",
              "       [0.06858444, 0.13870728, 0.62946546, ..., 0.70939183, 0.6969167 ,\n",
              "        0.31077933],\n",
              "       [0.96793556, 0.00159299, 0.5033606 , ..., 0.9322399 , 0.87113607,\n",
              "        0.12798715],\n",
              "       ...,\n",
              "       [0.7478211 , 0.47004175, 0.08365309, ..., 0.56441665, 0.50319314,\n",
              "        0.8957844 ],\n",
              "       [0.23546767, 0.02326941, 0.42137253, ..., 0.97182107, 0.16614711,\n",
              "        0.44496143],\n",
              "       [0.8256724 , 0.7506033 , 0.84517884, ..., 0.78279114, 0.28267467,\n",
              "        0.7969364 ]], dtype=float32)>"
            ]
          },
          "metadata": {},
          "execution_count": 12
        }
      ]
    },
    {
      "cell_type": "code",
      "source": [
        "start = time.time()\n",
        "\n",
        "for i in range(10):\n",
        "  tf.matmul(tf_array, tf_array)\n",
        "\n",
        "end = time.time()\n",
        "\n",
        "time_period = end - start\n",
        "\n",
        "print(f'{time_period} seconds')"
      ],
      "metadata": {
        "colab": {
          "base_uri": "https://localhost:8080/"
        },
        "id": "faZ3QyW6W2ao",
        "outputId": "a9757490-1bc6-4190-b403-78af69310847"
      },
      "execution_count": 14,
      "outputs": [
        {
          "output_type": "stream",
          "name": "stdout",
          "text": [
            "47.94349694252014 seconds\n"
          ]
        }
      ]
    },
    {
      "cell_type": "markdown",
      "source": [
        "**With GPU Support**"
      ],
      "metadata": {
        "id": "egu3uPtUZEsq"
      }
    },
    {
      "cell_type": "code",
      "source": [
        "import numpy as np\n",
        "import tensorflow as tf"
      ],
      "metadata": {
        "id": "TAS5F5QkXW0a"
      },
      "execution_count": 2,
      "outputs": []
    },
    {
      "cell_type": "code",
      "source": [
        "import time"
      ],
      "metadata": {
        "id": "aLg5JaVBZR6N"
      },
      "execution_count": 3,
      "outputs": []
    },
    {
      "cell_type": "code",
      "source": [
        "tf.test.gpu_device_name()"
      ],
      "metadata": {
        "colab": {
          "base_uri": "https://localhost:8080/",
          "height": 36
        },
        "id": "yapPFqqwZbyn",
        "outputId": "412eae5c-1239-47f4-d755-cc717bd19383"
      },
      "execution_count": 4,
      "outputs": [
        {
          "output_type": "execute_result",
          "data": {
            "text/plain": [
              "'/device:GPU:0'"
            ],
            "application/vnd.google.colaboratory.intrinsic+json": {
              "type": "string"
            }
          },
          "metadata": {},
          "execution_count": 4
        }
      ]
    },
    {
      "cell_type": "code",
      "source": [
        "shape = 5000"
      ],
      "metadata": {
        "id": "rr33BxTZZfM-"
      },
      "execution_count": 5,
      "outputs": []
    },
    {
      "cell_type": "code",
      "source": [
        "np_array = np.random.uniform(size=[shape,shape])"
      ],
      "metadata": {
        "id": "paQAkpVDZj4D"
      },
      "execution_count": 6,
      "outputs": []
    },
    {
      "cell_type": "code",
      "source": [
        "np_array"
      ],
      "metadata": {
        "colab": {
          "base_uri": "https://localhost:8080/"
        },
        "id": "ebgYJ0XvZmhF",
        "outputId": "b1633889-fc27-4abf-e38d-28bf780705b2"
      },
      "execution_count": 7,
      "outputs": [
        {
          "output_type": "execute_result",
          "data": {
            "text/plain": [
              "array([[0.22375831, 0.93081052, 0.60896554, ..., 0.00538009, 0.01430539,\n",
              "        0.10950017],\n",
              "       [0.50080725, 0.44355111, 0.12201748, ..., 0.71034794, 0.78176323,\n",
              "        0.87535075],\n",
              "       [0.82030667, 0.50168502, 0.6177463 , ..., 0.65539555, 0.88322201,\n",
              "        0.02901115],\n",
              "       ...,\n",
              "       [0.93025046, 0.39004778, 0.55664203, ..., 0.60180701, 0.18113166,\n",
              "        0.49954552],\n",
              "       [0.07783279, 0.33261161, 0.11163907, ..., 0.10380432, 0.68326778,\n",
              "        0.37729182],\n",
              "       [0.75034975, 0.54469591, 0.62253824, ..., 0.28767933, 0.96379188,\n",
              "        0.07174054]])"
            ]
          },
          "metadata": {},
          "execution_count": 7
        }
      ]
    },
    {
      "cell_type": "code",
      "source": [
        "start = time.time()\n",
        "\n",
        "for i in range(10):\n",
        "  np.matmul(np_array, np_array)\n",
        "\n",
        "end = time.time()\n",
        "\n",
        "time_period = end - start\n",
        "\n",
        "print(f'{time_period} seconds')"
      ],
      "metadata": {
        "colab": {
          "base_uri": "https://localhost:8080/"
        },
        "id": "1tK39GFxZo2y",
        "outputId": "58419cf3-3529-4487-e8f3-ca49b55117c6"
      },
      "execution_count": 8,
      "outputs": [
        {
          "output_type": "stream",
          "name": "stdout",
          "text": [
            "52.55172157287598 seconds\n"
          ]
        }
      ]
    },
    {
      "cell_type": "code",
      "source": [
        "tf_array = tf.random.uniform([shape,shape])\n",
        "tf_array"
      ],
      "metadata": {
        "colab": {
          "base_uri": "https://localhost:8080/"
        },
        "id": "YbXwHvI7Zs2o",
        "outputId": "d974c037-03a4-408c-cbd7-8c67611bf986"
      },
      "execution_count": 9,
      "outputs": [
        {
          "output_type": "execute_result",
          "data": {
            "text/plain": [
              "<tf.Tensor: shape=(5000, 5000), dtype=float32, numpy=\n",
              "array([[0.1298989 , 0.35359645, 0.4687475 , ..., 0.17909634, 0.22600245,\n",
              "        0.3272184 ],\n",
              "       [0.29792488, 0.00837874, 0.07234728, ..., 0.0181911 , 0.522915  ,\n",
              "        0.35743058],\n",
              "       [0.4382236 , 0.31444252, 0.3496871 , ..., 0.4966327 , 0.4476825 ,\n",
              "        0.91275156],\n",
              "       ...,\n",
              "       [0.32673037, 0.67161894, 0.99850583, ..., 0.7946067 , 0.07950604,\n",
              "        0.04528654],\n",
              "       [0.0360148 , 0.47662067, 0.3645537 , ..., 0.8368709 , 0.5043328 ,\n",
              "        0.35687745],\n",
              "       [0.04793501, 0.9422462 , 0.07349277, ..., 0.24522638, 0.0016613 ,\n",
              "        0.6929629 ]], dtype=float32)>"
            ]
          },
          "metadata": {},
          "execution_count": 9
        }
      ]
    },
    {
      "cell_type": "code",
      "source": [
        "start = time.time()\n",
        "\n",
        "for i in range(10):\n",
        "  tf.matmul(tf_array, tf_array)\n",
        "\n",
        "end = time.time()\n",
        "\n",
        "time_period = end - start\n",
        "\n",
        "print(f'{time_period} seconds')"
      ],
      "metadata": {
        "colab": {
          "base_uri": "https://localhost:8080/"
        },
        "id": "Yo6egYqOaQ3Z",
        "outputId": "4d91c4e5-9a3a-4df2-edda-1cbddfb9d357"
      },
      "execution_count": 10,
      "outputs": [
        {
          "output_type": "stream",
          "name": "stdout",
          "text": [
            "0.15250468254089355 seconds\n"
          ]
        }
      ]
    },
    {
      "cell_type": "code",
      "source": [],
      "metadata": {
        "id": "N2Cd3fAAaULv"
      },
      "execution_count": null,
      "outputs": []
    }
  ]
}